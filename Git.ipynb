{
 "cells": [
  {
   "cell_type": "code",
   "execution_count": 1,
   "id": "99af50be",
   "metadata": {},
   "outputs": [],
   "source": [
    "import pandas as pd\n",
    "from rdkit.Chem import AllChem\n",
    "from rdkit import Chem\n",
    "from rdkit.Chem import Descriptors\n",
    "from rdkit.ML.Descriptors import MoleculeDescriptors\n",
    "import pandas as pd\n",
    "import numpy as np\n",
    "from mordred import Calculator, descriptors"
   ]
  },
  {
   "cell_type": "code",
   "execution_count": null,
   "id": "2a4466a3",
   "metadata": {},
   "outputs": [],
   "source": [
    "#Use this function to generate descriptors based on a molecular descriptor calculator known as mordred\n",
    "def All_Mordred_descriptors(data):\n",
    "    calc = Calculator(descriptors, ignore_3D=False)\n",
    "    mols = [Chem.MolFromSmiles(smi) for smi in data]\n",
    "    \n",
    "    df = calc.pandas(mols)\n",
    "    return df\n",
    "mordred_descriptors = All_Mordred_descriptors(dataset_new['SMILES'])\n",
    "mordred_descriptors.to_csv('mordred_descriptors.csv', index = False)"
   ]
  },
  {
   "cell_type": "code",
   "execution_count": null,
   "id": "8e176334",
   "metadata": {},
   "outputs": [],
   "source": [
    "#This function can be used to generate molecular descriptors from SMILES column\n",
    "def RDkit_descriptors(smiles):\n",
    "    mols = [Chem.MolFromSmiles(i) for i in smiles] \n",
    "    calc = MoleculeDescriptors.MolecularDescriptorCalculator([x[0] for x in Descriptors._descList])\n",
    "    desc_names = calc.GetDescriptorNames()\n",
    "    \n",
    "    Mol_descriptors =[]\n",
    "    for mol in mols:\n",
    "        # add hydrogens to molecules\n",
    "        mol=Chem.AddHs(mol)\n",
    "        # Calculate all 200 descriptors for each molecule\n",
    "        descriptors = calc.CalcDescriptors(mol)\n",
    "        Mol_descriptors.append(descriptors)\n",
    "    return Mol_descriptors,desc_names \n",
    "\n",
    "# Function call\n",
    "#Mol_descriptors,desc_names = RDkit_descriptors(dataset_new['SMILES'])"
   ]
  },
  {
   "cell_type": "code",
   "execution_count": null,
   "id": "0051d24e",
   "metadata": {},
   "outputs": [],
   "source": [
    "import pandas as pd\n",
    "import tensorflow as tf\n",
    "from sklearn.model_selection import train_test_split\n",
    "from sklearn.metrics import accuracy_score, precision_score, recall_score, f1_score, roc_auc_score\n",
    "from sklearn.preprocessing import MinMaxScaler\n",
    "from tqdm import tqdm\n",
    "\n",
    "\n",
    "original_data = pd.read_csv('morgan_fpts.csv')\n",
    "\n",
    "X = original_data.drop(['label'], axis=1)  \n",
    "y = original_data['label']\n",
    "\n",
    "X_train, X_test, y_train, y_test = train_test_split(X, y, test_size=0.2, random_state=42)\n",
    "\n",
    "scaler = MinMaxScaler()\n",
    "X_train_normalized = scaler.fit_transform(X_train)\n",
    "X_test_normalized = scaler.transform(X_test)\n",
    "\n",
    "model = tf.keras.Sequential([\n",
    "    tf.keras.layers.Dense(64, activation='relu', input_shape=(X.shape[1],)),\n",
    "    tf.keras.layers.Dense(128, activation='relu'),\n",
    "    tf.keras.layers.Dense(256, activation='relu'),\n",
    "    tf.keras.layers.Dense(1, activation='sigmoid')\n",
    "])\n",
    "\n",
    "\n",
    "model.compile(optimizer='adam', loss='binary_crossentropy')\n",
    "\n",
    "epochs = 10\n",
    "batch_size = 32\n",
    "steps_per_epoch = len(X_train_normalized) // batch_size\n",
    "\n",
    "with tqdm(total=epochs * steps_per_epoch) as pbar:\n",
    "    for epoch in range(epochs):\n",
    "        for step in range(steps_per_epoch):\n",
    "            start_idx = step * batch_size\n",
    "            end_idx = (step + 1) * batch_size\n",
    "            X_batch = X_train_normalized[start_idx:end_idx]\n",
    "            y_batch = y_train[start_idx:end_idx]\n",
    "\n",
    "            model.train_on_batch(X_batch, y_batch)\n",
    "\n",
    "            pbar.update(1)\n",
    "\n",
    "\n",
    "y_pred = model.predict(X_test_normalized)\n",
    "_pred_labels = (y_pred >= 0.7).astype(int)\n",
    "\n",
    "accuracy = accuracy_score(y_test, y_pred_labels)\n",
    "precision = precision_score(y_test, y_pred_labels)\n",
    "recall = recall_score(y_test, y_pred_labels)\n",
    "f1 = f1_score(y_test, y_pred_labels)\n",
    "auc_roc = roc_auc_score(y_test, y_pred)\n",
    "\n",
    "print(f\"Accuracy: {accuracy:.4f}\")\n",
    "print(f\"Precision: {precision:.4f}\")\n",
    "print(f\"Recall: {recall:.4f}\")\n",
    "print(f\"F1-Score: {f1:.4f}\")\n",
    "print(f\"AUC-ROC: {auc_roc:.4f}\")\n"
   ]
  },
  {
   "cell_type": "code",
   "execution_count": null,
   "id": "bdc18bfd",
   "metadata": {},
   "outputs": [],
   "source": [
    "model.save('model.h5')"
   ]
  },
  {
   "cell_type": "code",
   "execution_count": 3,
   "id": "f1f19158",
   "metadata": {},
   "outputs": [
    {
     "data": {
      "text/plain": [
       "(3651, 2)"
      ]
     },
     "execution_count": 3,
     "metadata": {},
     "output_type": "execute_result"
    }
   ],
   "source": [
    "dataset_new = pd.read_csv('phyto_with_smiles.csv',low_memory = False)\n",
    "dataset_new.shape"
   ]
  },
  {
   "cell_type": "code",
   "execution_count": 8,
   "id": "3ac1827b",
   "metadata": {},
   "outputs": [
    {
     "data": {
      "text/plain": [
       "(3316, 2)"
      ]
     },
     "execution_count": 8,
     "metadata": {},
     "output_type": "execute_result"
    }
   ],
   "source": [
    "def canonical_smiles(smiles):\n",
    "    mols = [Chem.MolFromSmiles(smi) for smi in smiles] \n",
    "    smiles = [Chem.MolToSmiles(mol) for mol in mols]\n",
    "    return smiles\n",
    "\n",
    "Canon_SMILES = canonical_smiles(dataset_new.SMILES)\n",
    "duplicates_smiles = dataset_new[dataset_new['SMILES'].duplicated()]['SMILES'].values\n",
    "len(duplicates_smiles)\n",
    "dataset_new = dataset_new.drop_duplicates(subset=['SMILES'])\n",
    "dataset_new.shape"
   ]
  },
  {
   "cell_type": "code",
   "execution_count": 9,
   "id": "675ebe2a",
   "metadata": {},
   "outputs": [],
   "source": [
    "def morgan_fpts(data):\n",
    "    Morgan_fpts = []\n",
    "    for i in data:\n",
    "        mol = Chem.MolFromSmiles(i) \n",
    "        fpts =  AllChem.GetMorganFingerprintAsBitVect(mol,2,2048)\n",
    "        mfpts = np.array(fpts)\n",
    "        Morgan_fpts.append(mfpts)  \n",
    "    return np.array(Morgan_fpts)"
   ]
  },
  {
   "cell_type": "code",
   "execution_count": 10,
   "id": "0aa52681",
   "metadata": {},
   "outputs": [],
   "source": [
    "Morgan_fpts = morgan_fpts(dataset_new['SMILES'])\n",
    "morgan_fpts_prediction = pd.DataFrame(Morgan_fpts)"
   ]
  },
  {
   "cell_type": "code",
   "execution_count": 11,
   "id": "821c371c",
   "metadata": {},
   "outputs": [
    {
     "data": {
      "text/plain": [
       "(3316, 2048)"
      ]
     },
     "execution_count": 11,
     "metadata": {},
     "output_type": "execute_result"
    }
   ],
   "source": [
    "morgan_fpts_prediction.shape"
   ]
  },
  {
   "cell_type": "code",
   "execution_count": null,
   "id": "8ca293ba",
   "metadata": {},
   "outputs": [],
   "source": [
    "import pandas as pd\n",
    "import tensorflow as tf\n",
    "from sklearn.preprocessing import MinMaxScaler\n",
    "\n",
    "new_data = morgan_fpts\n",
    "\n",
    "\n",
    "X_new = new_data\n",
    "\n",
    "scaler = MinMaxScaler()\n",
    "X_new_normalized = scaler.fit_transform(X_new)\n",
    "\n",
    "model = tf.keras.models.load_model('model.h5')\n",
    "\n",
    "y_pred = model.predict(X_new_normalized)\n",
    "y_pred_labels = (y_pred >= 0.5).astype(int)\n",
    "\n",
    "prediction_scores = y_pred.flatten()\n",
    "predictions = pd.DataFrame({\n",
    "    'label': y_pred_labels.flatten(),\n",
    "    'ranking': pd.Series(prediction_scores).rank(ascending=False),\n",
    "    'score': prediction_scores\n",
    "})\n",
    "predictions"
   ]
  }
 ],
 "metadata": {
  "kernelspec": {
   "display_name": "Python 3 (ipykernel)",
   "language": "python",
   "name": "python3"
  },
  "language_info": {
   "codemirror_mode": {
    "name": "ipython",
    "version": 3
   },
   "file_extension": ".py",
   "mimetype": "text/x-python",
   "name": "python",
   "nbconvert_exporter": "python",
   "pygments_lexer": "ipython3",
   "version": "3.10.6"
  }
 },
 "nbformat": 4,
 "nbformat_minor": 5
}
